{
 "cells": [
  {
   "cell_type": "markdown",
   "id": "abroad-society",
   "metadata": {},
   "source": [
    "# İçerik\n",
    "**[1.Amaç Tanımı ve Çalışmaların Özeti](#1)**\n",
    "\n",
    "**[2.Trend Oluşturma Fonksiyonu](#2)**\n",
    "\n",
    "**[3.Trend Verisine Gürültü Ekleme Fonksiyonu](#3)**\n",
    "\n",
    "**[4. Makine Açılış Sıcaklık Verisi Üretme Fonksiyonu](#4)**\n",
    "    \n",
    "**[5. Non Trend Sıcaklık Verisi Üretme Fonksiyonu](#5)**\n",
    "\n",
    "**[6. Trend İçeren Zaman Serisi Üretme Fonksiyonu](#6)**\n",
    "\n",
    "**[7. Tüm Verileri İçeren Veri Setini Üretme Fonksiyonu](#7)**\n",
    "    \n",
    "**[8. Simulasyonun Çalıştırılması](#8)**\n",
    "  \n"
   ]
  },
  {
   "cell_type": "markdown",
   "id": "demonstrated-talent",
   "metadata": {},
   "source": [
    "# Amaç Tanımı ve Çalışmaların Özeti <a id =1></a>"
   ]
  },
  {
   "cell_type": "markdown",
   "id": "romantic-simulation",
   "metadata": {},
   "source": [
    "**Amaç :**"
   ]
  },
  {
   "cell_type": "markdown",
   "id": "familiar-values",
   "metadata": {},
   "source": [
    "800T Press Makinesi için trendlerin yer aldığı sentetik veri üretmek amaçlanmaktadır."
   ]
  },
  {
   "cell_type": "markdown",
   "id": "numerous-mathematics",
   "metadata": {},
   "source": [
    "Amaç doğrultusunda oluşturulan veri üretme simulasyon çalışmaları aşağıdaki gibidir :"
   ]
  },
  {
   "cell_type": "markdown",
   "id": "middle-fishing",
   "metadata": {},
   "source": [
    "**Çalışmaların Özeti :**"
   ]
  },
  {
   "cell_type": "markdown",
   "id": "found-yemen",
   "metadata": {},
   "source": [
    "**48 saatlik yani 172800 saniyelik**"
   ]
  },
  {
   "cell_type": "markdown",
   "id": "invisible-portuguese",
   "metadata": {},
   "source": [
    "- **7 adet yatak ve 1 adet ana motor sıcaklığ**ı olmak üzere sentetik veri üretilmiştir.\n",
    "- Sıcaklık değerlerinin yanı sıra **ana motor akım** değerleri ve akım ile **%93 korele** olacak şekilde **devir sayısı** verisi üretilmiştir."
   ]
  },
  {
   "cell_type": "markdown",
   "id": "applied-uncle",
   "metadata": {},
   "source": [
    "Rastgele belirlenin iki sıcaklık değeri için **(Yatak3_Sicaklik & Yatak6_Sicaklik)** trendlerin yer aldığı veriler üretilmiştir."
   ]
  },
  {
   "cell_type": "markdown",
   "id": "lyric-monkey",
   "metadata": {},
   "source": [
    "- Bu trendler rastgele belirlenen  Yatak3_Sicaklik için 72255 ve 137496. saniyelerde başlayıp 2 saat sürmüştür.\n",
    "- Bu trendler rastgele belirlenen  Yatak3_Sicaklik için 31247 ve 94455. saniyelerde başlayıp 2 saat sürmüştür."
   ]
  },
  {
   "cell_type": "markdown",
   "id": "acting-moisture",
   "metadata": {},
   "source": [
    "Trendlerin bitiminde 1 saat süreyle yani 1800 saniye duruş verisi eklenmiştir."
   ]
  },
  {
   "cell_type": "markdown",
   "id": "stainless-preview",
   "metadata": {},
   "source": [
    "Her bir duruştan sonra 3 saatlik makine başlangıç sıcaklık değerleri ile çalışmaya başlamıştır."
   ]
  },
  {
   "cell_type": "markdown",
   "id": "subject-humor",
   "metadata": {},
   "source": [
    "**Gerekli Kütüphanelerin Yüklenmesi**"
   ]
  },
  {
   "cell_type": "code",
   "execution_count": 1,
   "id": "pleasant-digest",
   "metadata": {},
   "outputs": [],
   "source": [
    "import pandas as pd\n",
    "import numpy as np\n",
    "import matplotlib.pyplot as plt\n",
    "plt.rcParams[\"figure.figsize\"] = (20,8)\n",
    "from random import gauss\n",
    "from random import seed"
   ]
  },
  {
   "cell_type": "markdown",
   "id": "cardiovascular-juice",
   "metadata": {},
   "source": [
    "### Trend Oluşturma Fonksiyonu <a id = 2></a>"
   ]
  },
  {
   "cell_type": "markdown",
   "id": "stunning-elimination",
   "metadata": {},
   "source": [
    "**generate_trend()** fonksiyonu belirlenen parametrelere gören trend verisi yaratmaktadır.\n",
    "\n",
    "**4** adet parametre almaktadır. Bu parametreler şu şekildedir:\n",
    "- **trend_time** : Kaç saniyelik trend yaratılacağını belirler\n",
    "- **part_count** : Trendi belirlenen sayıda parçaya ayırmak için kullanılır.\n",
    "- **start_temp** : Trendin başlangıç sıcaklığıdır.\n",
    "- **end_temp** : Trendin bitiş sıcaklığıdır.m"
   ]
  },
  {
   "cell_type": "code",
   "execution_count": 2,
   "id": "little-colonial",
   "metadata": {},
   "outputs": [],
   "source": [
    "def generate_trend(trend_time,part_count,start_temp,end_temp):\n",
    "    temperatures = np.linspace(start_temp,\n",
    "                           end_temp,\n",
    "                           part_count)\n",
    "    temperatures = [round(x, 2) for x in temperatures]\n",
    "    for i in range(1, len(temperatures) - 1):\n",
    "        random_sayi = np.random.uniform(0, \n",
    "                     temperatures[i + 1] - temperatures[i])\n",
    "        temperatures[i] = temperatures[i] + random_sayi\n",
    "    range_list = np.linspace(0, trend_time, part_count-1)\n",
    "    for i in range(len(range_list) - 1):\n",
    "        random_sayi = np.random.uniform(0, \n",
    "                    range_list[i + 1] - range_list[i])\n",
    "        range_list[i] = range_list[i] + random_sayi\n",
    "    list_fark = []\n",
    "    range_list = np.insert(range_list, 0, 0, axis=0)\n",
    "    for i in range(len(range_list) - 1):\n",
    "        fark = range_list[i + 1] - range_list[i]\n",
    "        list_fark.append(fark)\n",
    "    list_fark = [int(round(x)) for x in list_fark]\n",
    "    list_last = list()\n",
    "    for i in range(0, len(temperatures) - 1):\n",
    "        list_last.append(\n",
    "            np.linspace(temperatures[i],\n",
    "                    temperatures[i + 1], \n",
    "                    list_fark[i]))\n",
    "    list_last = np.hstack(list_last)\n",
    "    list_noise = list()\n",
    "    for i in list_fark:\n",
    "        list_noise.append(\n",
    "            [gauss(-0.05,0.05) for i in range(i)])\n",
    "    list_noise = np.hstack(list_noise)\n",
    "    trend = list_last + list_noise\n",
    "    durus = [27  for x in range(1800)]\n",
    "    trend = np.concatenate([trend,durus])\n",
    "    trend = add_noise(trend)\n",
    "    return trend"
   ]
  },
  {
   "cell_type": "markdown",
   "id": "proper-stick",
   "metadata": {},
   "source": [
    "### Trend Verisine Gürültü Ekleme Fonksiyonu <a id = 3></a>"
   ]
  },
  {
   "cell_type": "markdown",
   "id": "desirable-guyana",
   "metadata": {},
   "source": [
    "**add_noise()** fonksiyonu statik olarak çalışan gürültü ekleme fonksiyonudur. Belirlenen saniyelerde rassal bir şekilde gürültü ekler."
   ]
  },
  {
   "cell_type": "markdown",
   "id": "extra-queen",
   "metadata": {},
   "source": [
    "**1** parametre almaktadır.Parametre şu şekildedir:\n",
    "- **trend:** Oluşturulan trend verilerini alır."
   ]
  },
  {
   "cell_type": "code",
   "execution_count": 3,
   "id": "shaped-struggle",
   "metadata": {},
   "outputs": [],
   "source": [
    "def add_noise(trend):\n",
    "    # 100 - 500\n",
    "    trend[300:700] = np.linspace(trend[300],trend[700] + 0.3,400)\n",
    "    trend[300:700] = trend[300:700] + [gauss(-0.05,0.05) for i in range(400)]\n",
    "    trend[650:850] = np.linspace(trend[650],trend[850] - 0.1,200)\n",
    "    trend[650:850] = trend[650:850] - [gauss(-0.05,0.05) for i in range(200)]\n",
    "    # 1000 - 2000\n",
    "    trend[1000:1400] = np.linspace(trend[1000],trend[1400] + 0.2,400)\n",
    "    trend[1000:1400] = trend[1000:1400] + [gauss(-0.05,0.05) for i in range(400)]\n",
    "    trend[1350:1600] = np.linspace(trend[1350],trend[1600] - 0.1,250)\n",
    "    trend[1350:1600] = trend[1350:1600] - [gauss(-0.05,0.05) for i in range(250)]\n",
    "    # 2000 - 3000\n",
    "    trend[2500:2900] = np.linspace(trend[2500],trend[2900]+0.15,400)\n",
    "    trend[2500:2900] = trend[2500:2900] + [gauss(-0.05,0.05) for i in range(400)]\n",
    "    trend[2900:3300] = np.linspace(trend[2900],trend[3300]-0.15,400)\n",
    "    trend[2900:3300] = trend[2900:3300] - [gauss(-0.05,0.05) for i in range(400)]\n",
    "    # 3500 - 4500\n",
    "    trend[3500:4500] = np.linspace(trend[3500],trend[4500] + 1,1000)\n",
    "    trend[3500:4500] = trend[3500:4500] + [gauss(-0.05,0.05) for i in range(1000)]\n",
    "    trend[4200:4900] = np.linspace(trend[4200],trend[4900] - 0.1,700)\n",
    "    trend[4200:4900] = trend[4200:4900] - [gauss(-0.05,0.05) for i in range(700)]\n",
    "    # 4500 - 5500\n",
    "    trend[4700:5100] = np.linspace(trend[4700],trend[5100] + 0.5,400)\n",
    "    trend[4700:5100] = trend[4700:5100] + [gauss(-0.05,0.05) for i in range(400)]\n",
    "    trend[5050:5300] = np.linspace(trend[5050],trend[5300] - 0.1,250)\n",
    "    trend[5050:5300] = trend[5050:5300] - [gauss(-0.05,0.05) for i in range(250)]\n",
    "    # 5500 - 6500\n",
    "    trend[5500:6000] = np.linspace(trend[5500],trend[6000] + 0.3,500)\n",
    "    trend[5500:6000] = trend[5500:6000] + [gauss(-0.05,0.05) for i in range(500)]\n",
    "    trend[5700:6200] = np.linspace(trend[5700],trend[6200] - 0.3,500)\n",
    "    trend[5700:6200] = trend[5700:6200] - [gauss(-0.05,0.05) for i in range(500)]\n",
    "    return trend"
   ]
  },
  {
   "cell_type": "markdown",
   "id": "selected-boundary",
   "metadata": {},
   "source": [
    "### Makine Açılış Sıcaklık Verisi Üretme Fonksiyonu <a id = 4></a>"
   ]
  },
  {
   "cell_type": "markdown",
   "id": "surrounded-pearl",
   "metadata": {},
   "source": [
    "**generate_opening()** fonksiyonu makine açıldığında başlangıç belirlenen başlangıç sıcaklığına göre belirlenen süre kadar veri üretir."
   ]
  },
  {
   "cell_type": "markdown",
   "id": "heard-truck",
   "metadata": {},
   "source": [
    "**2** parametre almaktadır.Bu parametreler şu şekildedir:\n",
    "- **time** : Açılış süresinin ne kadar olacağını belirler.\n",
    "- **start_temp** : Başlangıç sıcaklığının ne olacağını belirler."
   ]
  },
  {
   "cell_type": "code",
   "execution_count": 4,
   "id": "alternative-designer",
   "metadata": {},
   "outputs": [],
   "source": [
    "def generate_opening(time,start_temp):\n",
    "    list_opening  = [start_temp]\n",
    "    start = start_temp\n",
    "    for i in range(time-1):\n",
    "        random_sayi = np.random.uniform(-0.1,0.1)\n",
    "        if start < start_temp:\n",
    "            random_sayi = abs(random_sayi)\n",
    "        if start > start_temp + 3:\n",
    "            random_sayi = -abs(random_sayi)\n",
    "        start = start + random_sayi\n",
    "        list_opening.append(start)\n",
    "    return list_opening"
   ]
  },
  {
   "cell_type": "markdown",
   "id": "generous-pacific",
   "metadata": {},
   "source": [
    "###  Trend Olmayan Sıcaklık Verisi Üretme Fonksiyonu <a id = 5></a>"
   ]
  },
  {
   "cell_type": "markdown",
   "id": "animated-boutique",
   "metadata": {},
   "source": [
    "**generate_full()** fonksiyonu makine açılışından sonraki belirlenen süre boyunca sıcaklık verisi üretir."
   ]
  },
  {
   "cell_type": "markdown",
   "id": "fundamental-psychiatry",
   "metadata": {},
   "source": [
    "**3** parametre almaktadır. Bu parametreler şu şekildedir:\n",
    "- **time**: Kaç saniyelik veri üretileceğini belirler.\n",
    "- **list_opening** : Açılış veri setinin son değerinden artışa devam etmek için başlangıç noktası belirler.\n",
    "- **start_temp**: Başlangıç sıcaklığını belirler."
   ]
  },
  {
   "cell_type": "code",
   "execution_count": 5,
   "id": "resident-attention",
   "metadata": {},
   "outputs": [],
   "source": [
    "def generate_full(time,list_opening,start_temp):\n",
    "    list_full = [list_opening[-1]]\n",
    "    start = start_temp\n",
    "    for i in range(time-1):\n",
    "        random_sayi = np.random.uniform(-0.05,0.05)\n",
    "        if start < start_temp + 0.5:\n",
    "            random_sayi = abs(random_sayi)\n",
    "        if start > start_temp + 6:\n",
    "            random_sayi = -abs(random_sayi)\n",
    "        start = start + random_sayi\n",
    "        list_full.append(start)\n",
    "    return list_full"
   ]
  },
  {
   "cell_type": "markdown",
   "id": "black-norfolk",
   "metadata": {},
   "source": [
    "### Trend İçeren Zaman Serisi Üretme Fonksiyonu <a id = 6></a>"
   ]
  },
  {
   "cell_type": "markdown",
   "id": "nearby-departure",
   "metadata": {},
   "source": [
    "**create_trend_data()** fonksiyonu trendin olduğu belirlenen süre için tüm veriyi üretir."
   ]
  },
  {
   "cell_type": "markdown",
   "id": "celtic-suggestion",
   "metadata": {},
   "source": [
    "**8** parametre almaktadır.Bu parametreler şu şekildedir.\n",
    "- **opening_time**: Açılış ne kadar süreciğini belirler.\n",
    "- **initial_temp**: Açılış sıcaklığını belirler.\n",
    "- **full_time**: Tüm zaman serisinin zamanını belirler.\n",
    "- **time_part_count**: Trendin kaç parçaya ayrılacağını belirler.\n",
    "- **trend_start_temp**: Trend başlangıç sıcaklığını belirler.\n",
    "- **trend_count**: Oluşturulacak kritik trend sayısını belirler.\n",
    "- **trend_end_temp** : Trend bitiş sıcaklığını belirler.\n",
    "- **trend_time** : Trendin ne kadar süreceğini belirler."
   ]
  },
  {
   "cell_type": "code",
   "execution_count": 6,
   "id": "elementary-liberia",
   "metadata": {},
   "outputs": [],
   "source": [
    "def create_trend_data(opening_time, initial_temp, full_time, time_part_count, trend_start_temp,\n",
    "                trend_count, trend_end_temp, trend_time):\n",
    "    opening_data = generate_opening(opening_time,initial_temp)\n",
    "    full_data = generate_full(full_time - opening_time,opening_data,initial_temp + 1)\n",
    "    full_data = np.concatenate([opening_data, full_data])\n",
    "    max_trend_count = (full_time - opening_time)//( trend_time + opening_time + 3600)\n",
    "    if trend_count > max_trend_count :\n",
    "        print(\"Trend Sayısı Maksimum {} olabilir.Trend Sayınız {} olarak belirlenmiştir.\".format(\n",
    "        max_trend_count,max_trend_count))\n",
    "        trend_count = max_trend_count\n",
    "    parts_array = np.linspace(opening_time, full_time, trend_count + 1)\n",
    "    for i in range(trend_count):\n",
    "        trend = generate_trend(trend_time,time_part_count,trend_start_temp,trend_end_temp)\n",
    "        trend = np.concatenate([trend,generate_opening(opening_time,initial_temp)])\n",
    "        trend_baslangic = np.random.randint(parts_array[i],parts_array[i+1] - trend_time)\n",
    "        full_data[trend_baslangic:trend_baslangic + len(trend)] = trend\n",
    "        print(\"{}. saniyede başlayıp {} - {} sıcaklıkları arasında {} saniye süren {}. trend oluşturulmuştur\".format(\n",
    "            trend_baslangic,trend_start_temp,trend_end_temp,trend_time,i+1))\n",
    "    return full_data"
   ]
  },
  {
   "cell_type": "markdown",
   "id": "robust-arrow",
   "metadata": {},
   "source": [
    "### Tüm Verileri İçeren Veri Setini Üretme Fonksiyonu <a id = 7></a>"
   ]
  },
  {
   "cell_type": "markdown",
   "id": "smoking-hunter",
   "metadata": {},
   "source": [
    "**create_all_data()** belirlenen parametreler göre istenen sayıda trendin olduğu istenen sayıda öznitelikten oluşan kapsamlı veri setini oluşturur."
   ]
  },
  {
   "cell_type": "markdown",
   "id": "adequate-internship",
   "metadata": {},
   "source": [
    "**10** parametre almaktadır. Bu parametreler şu şekildedir.\n",
    "- **opening_time**: Açılış ne kadar süreciğini belirler.\n",
    "- **initial_temp**: Açılış sıcaklığını belirler.\n",
    "- **full_time**: Tüm zaman serisinin zamanını belirler.\n",
    "- **time_part_count**: Trendin kaç parçaya ayrılacağını belirler.\n",
    "- **trend_start_temp**: Trend başlangıç sıcaklığını belirler.\n",
    "- **trend_count**: Oluşturulacak kritik trend sayısını belirler.\n",
    "- **trend_end_temp** : Trend bitiş sıcaklığını belirler.\n",
    "- **trend_time** : Trendin ne kadar süreceğini belirler.\n",
    "- **temp_features** : Oluşturulacak sıcaklık öznitlerini belirler.\n",
    "- **other_features**: Oluşturulacak sıcaklık öznitlerini belirler."
   ]
  },
  {
   "cell_type": "code",
   "execution_count": 35,
   "id": "utility-excerpt",
   "metadata": {},
   "outputs": [],
   "source": [
    "def create_all_data(opening_time, initial_temp, full_time,time_part_count, trend_start_temp,\n",
    "                trend_count, trend_end_temp, trend_time,temp_features,other_features):\n",
    "    \n",
    "    df = pd.DataFrame(columns = temp_features + other_features)\n",
    "    for i in df.columns:\n",
    "        opening_data = generate_opening(opening_time,initial_temp)\n",
    "        full_data = generate_full(full_time - opening_time,opening_data,initial_temp + 1)\n",
    "        full_data = np.concatenate([opening_data, full_data])\n",
    "        df[i] = full_data\n",
    "    print(\"{} adet yatak ve ana motor için sıcaklık verileri üretilmiştir.\".format(len(temp_features) - 1))\n",
    "    trend_features = list(np.random.choice(temp_features,2))\n",
    "    for j in trend_features:\n",
    "        df[j] = create_trend_data(opening_time, initial_temp, full_time, time_part_count, trend_start_temp,\n",
    "                trend_count, trend_end_temp, trend_time)\n",
    "    print(\"{} öznitelikleri için trend verileri oluşturulmuştur.\".format(trend_features))\n",
    "    akim_opening_data = generate_opening(opening_time,50)\n",
    "    akim_full_data = generate_full(full_time-opening_time ,akim_opening_data,52)\n",
    "    akim_full_data = np.concatenate([akim_opening_data, akim_full_data])\n",
    "    df[other_features[0]] = akim_full_data\n",
    "    df[other_features[1]] = akim_full_data * 16.23+ np.random.uniform(-20,20,5270400)\n",
    "    print(\"Motor Akım ve Devir Sayısı verileri üretilmiştir.\".format(temp_features))\n",
    "    return df\n",
    "        "
   ]
  },
  {
   "cell_type": "code",
   "execution_count": 14,
   "id": "42cd90b8",
   "metadata": {},
   "outputs": [
    {
     "data": {
      "text/plain": [
       "5270400"
      ]
     },
     "execution_count": 14,
     "metadata": {},
     "output_type": "execute_result"
    }
   ],
   "source": [
    "61*24*3600"
   ]
  },
  {
   "cell_type": "markdown",
   "id": "fitting-prayer",
   "metadata": {},
   "source": [
    "### Simulasyonun Çalıştırılması <a id = 8></a>"
   ]
  },
  {
   "cell_type": "code",
   "execution_count": 36,
   "id": "filled-destination",
   "metadata": {
    "scrolled": true
   },
   "outputs": [
    {
     "name": "stdout",
     "output_type": "stream",
     "text": [
      "7 adet yatak ve ana motor için sıcaklık verileri üretilmiştir.\n",
      "898048. saniyede başlayıp 35 - 42 sıcaklıkları arasında 7200 saniye süren 1. trend oluşturulmuştur\n",
      "3775414. saniyede başlayıp 35 - 42 sıcaklıkları arasında 7200 saniye süren 2. trend oluşturulmuştur\n",
      "1154576. saniyede başlayıp 35 - 42 sıcaklıkları arasında 7200 saniye süren 1. trend oluşturulmuştur\n",
      "4917311. saniyede başlayıp 35 - 42 sıcaklıkları arasında 7200 saniye süren 2. trend oluşturulmuştur\n",
      "['Yatak6_Sicaklik', 'Yatak3_Sicaklik'] öznitelikleri için trend verileri oluşturulmuştur.\n",
      "Motor Akım ve Devir Sayısı verileri üretilmiştir.\n"
     ]
    }
   ],
   "source": [
    "df = create_all_data(opening_time=10800, \n",
    "                     initial_temp=27, \n",
    "                     full_time=5270400, \n",
    "                     time_part_count=7, \n",
    "                     trend_start_temp=35,\n",
    "                     trend_end_temp=42,\n",
    "                     trend_count=2,\n",
    "                     trend_time=7200,\n",
    "                     temp_features=[\"Yatak1_Sicaklik\",\"Yatak2_Sicaklik\",\n",
    "                                    \"Yatak3_Sicaklik\",\"Yatak4_Sicaklik\",\n",
    "                                    \"Yatak5_Sicaklik\",\"Yatak6_Sicaklik\",\n",
    "                                    \"Yatak7_Sicaklik\",\"AnaSicaklik\"],\n",
    "                     other_features=[\"AnaAkim(A)\",\"MotorDevri(rpm)\"]\n",
    "                    )"
   ]
  },
  {
   "cell_type": "code",
   "execution_count": 37,
   "id": "3b20884a",
   "metadata": {
    "scrolled": true
   },
   "outputs": [
    {
     "data": {
      "text/html": [
       "<div>\n",
       "<style scoped>\n",
       "    .dataframe tbody tr th:only-of-type {\n",
       "        vertical-align: middle;\n",
       "    }\n",
       "\n",
       "    .dataframe tbody tr th {\n",
       "        vertical-align: top;\n",
       "    }\n",
       "\n",
       "    .dataframe thead th {\n",
       "        text-align: right;\n",
       "    }\n",
       "</style>\n",
       "<table border=\"1\" class=\"dataframe\">\n",
       "  <thead>\n",
       "    <tr style=\"text-align: right;\">\n",
       "      <th></th>\n",
       "      <th>Yatak1_Sicaklik</th>\n",
       "      <th>Yatak2_Sicaklik</th>\n",
       "      <th>Yatak3_Sicaklik</th>\n",
       "      <th>Yatak4_Sicaklik</th>\n",
       "      <th>Yatak5_Sicaklik</th>\n",
       "      <th>Yatak6_Sicaklik</th>\n",
       "      <th>Yatak7_Sicaklik</th>\n",
       "      <th>AnaSicaklik</th>\n",
       "      <th>AnaAkim(A)</th>\n",
       "      <th>MotorDevri(rpm)</th>\n",
       "    </tr>\n",
       "  </thead>\n",
       "  <tbody>\n",
       "    <tr>\n",
       "      <th>0</th>\n",
       "      <td>27.000000</td>\n",
       "      <td>27.000000</td>\n",
       "      <td>27.000000</td>\n",
       "      <td>27.000000</td>\n",
       "      <td>27.000000</td>\n",
       "      <td>27.000000</td>\n",
       "      <td>27.000000</td>\n",
       "      <td>27.000000</td>\n",
       "      <td>50.000000</td>\n",
       "      <td>812.854726</td>\n",
       "    </tr>\n",
       "    <tr>\n",
       "      <th>1</th>\n",
       "      <td>27.095640</td>\n",
       "      <td>27.077148</td>\n",
       "      <td>26.943278</td>\n",
       "      <td>26.935098</td>\n",
       "      <td>27.064923</td>\n",
       "      <td>26.990399</td>\n",
       "      <td>27.010983</td>\n",
       "      <td>27.024487</td>\n",
       "      <td>49.908763</td>\n",
       "      <td>828.580954</td>\n",
       "    </tr>\n",
       "    <tr>\n",
       "      <th>2</th>\n",
       "      <td>27.003674</td>\n",
       "      <td>27.127643</td>\n",
       "      <td>26.951661</td>\n",
       "      <td>27.011297</td>\n",
       "      <td>27.007896</td>\n",
       "      <td>27.042456</td>\n",
       "      <td>27.040127</td>\n",
       "      <td>27.025927</td>\n",
       "      <td>49.978215</td>\n",
       "      <td>799.236476</td>\n",
       "    </tr>\n",
       "    <tr>\n",
       "      <th>3</th>\n",
       "      <td>26.958198</td>\n",
       "      <td>27.058161</td>\n",
       "      <td>26.966757</td>\n",
       "      <td>26.945215</td>\n",
       "      <td>27.088181</td>\n",
       "      <td>27.014162</td>\n",
       "      <td>26.972506</td>\n",
       "      <td>26.956796</td>\n",
       "      <td>50.070479</td>\n",
       "      <td>800.061961</td>\n",
       "    </tr>\n",
       "    <tr>\n",
       "      <th>4</th>\n",
       "      <td>27.002204</td>\n",
       "      <td>27.018605</td>\n",
       "      <td>27.029641</td>\n",
       "      <td>26.993806</td>\n",
       "      <td>27.146411</td>\n",
       "      <td>26.995982</td>\n",
       "      <td>27.058231</td>\n",
       "      <td>26.978027</td>\n",
       "      <td>50.049783</td>\n",
       "      <td>811.400908</td>\n",
       "    </tr>\n",
       "    <tr>\n",
       "      <th>...</th>\n",
       "      <td>...</td>\n",
       "      <td>...</td>\n",
       "      <td>...</td>\n",
       "      <td>...</td>\n",
       "      <td>...</td>\n",
       "      <td>...</td>\n",
       "      <td>...</td>\n",
       "      <td>...</td>\n",
       "      <td>...</td>\n",
       "      <td>...</td>\n",
       "    </tr>\n",
       "    <tr>\n",
       "      <th>5270395</th>\n",
       "      <td>30.206832</td>\n",
       "      <td>29.606139</td>\n",
       "      <td>31.220967</td>\n",
       "      <td>30.756696</td>\n",
       "      <td>32.885802</td>\n",
       "      <td>30.994022</td>\n",
       "      <td>31.094098</td>\n",
       "      <td>31.727755</td>\n",
       "      <td>56.735049</td>\n",
       "      <td>930.165746</td>\n",
       "    </tr>\n",
       "    <tr>\n",
       "      <th>5270396</th>\n",
       "      <td>30.156872</td>\n",
       "      <td>29.646699</td>\n",
       "      <td>31.176315</td>\n",
       "      <td>30.793997</td>\n",
       "      <td>32.853738</td>\n",
       "      <td>30.951691</td>\n",
       "      <td>31.133980</td>\n",
       "      <td>31.740981</td>\n",
       "      <td>56.773775</td>\n",
       "      <td>921.276478</td>\n",
       "    </tr>\n",
       "    <tr>\n",
       "      <th>5270397</th>\n",
       "      <td>30.151766</td>\n",
       "      <td>29.653939</td>\n",
       "      <td>31.128096</td>\n",
       "      <td>30.801533</td>\n",
       "      <td>32.820037</td>\n",
       "      <td>30.992043</td>\n",
       "      <td>31.133942</td>\n",
       "      <td>31.690997</td>\n",
       "      <td>56.730520</td>\n",
       "      <td>903.821320</td>\n",
       "    </tr>\n",
       "    <tr>\n",
       "      <th>5270398</th>\n",
       "      <td>30.173768</td>\n",
       "      <td>29.667490</td>\n",
       "      <td>31.084594</td>\n",
       "      <td>30.796744</td>\n",
       "      <td>32.843101</td>\n",
       "      <td>31.024710</td>\n",
       "      <td>31.144309</td>\n",
       "      <td>31.694812</td>\n",
       "      <td>56.695873</td>\n",
       "      <td>902.367501</td>\n",
       "    </tr>\n",
       "    <tr>\n",
       "      <th>5270399</th>\n",
       "      <td>30.150254</td>\n",
       "      <td>29.627123</td>\n",
       "      <td>31.114912</td>\n",
       "      <td>30.824493</td>\n",
       "      <td>32.868398</td>\n",
       "      <td>31.018132</td>\n",
       "      <td>31.153861</td>\n",
       "      <td>31.672279</td>\n",
       "      <td>56.718093</td>\n",
       "      <td>903.625588</td>\n",
       "    </tr>\n",
       "  </tbody>\n",
       "</table>\n",
       "<p>5270400 rows × 10 columns</p>\n",
       "</div>"
      ],
      "text/plain": [
       "         Yatak1_Sicaklik  Yatak2_Sicaklik  Yatak3_Sicaklik  Yatak4_Sicaklik  \\\n",
       "0              27.000000        27.000000        27.000000        27.000000   \n",
       "1              27.095640        27.077148        26.943278        26.935098   \n",
       "2              27.003674        27.127643        26.951661        27.011297   \n",
       "3              26.958198        27.058161        26.966757        26.945215   \n",
       "4              27.002204        27.018605        27.029641        26.993806   \n",
       "...                  ...              ...              ...              ...   \n",
       "5270395        30.206832        29.606139        31.220967        30.756696   \n",
       "5270396        30.156872        29.646699        31.176315        30.793997   \n",
       "5270397        30.151766        29.653939        31.128096        30.801533   \n",
       "5270398        30.173768        29.667490        31.084594        30.796744   \n",
       "5270399        30.150254        29.627123        31.114912        30.824493   \n",
       "\n",
       "         Yatak5_Sicaklik  Yatak6_Sicaklik  Yatak7_Sicaklik  AnaSicaklik  \\\n",
       "0              27.000000        27.000000        27.000000    27.000000   \n",
       "1              27.064923        26.990399        27.010983    27.024487   \n",
       "2              27.007896        27.042456        27.040127    27.025927   \n",
       "3              27.088181        27.014162        26.972506    26.956796   \n",
       "4              27.146411        26.995982        27.058231    26.978027   \n",
       "...                  ...              ...              ...          ...   \n",
       "5270395        32.885802        30.994022        31.094098    31.727755   \n",
       "5270396        32.853738        30.951691        31.133980    31.740981   \n",
       "5270397        32.820037        30.992043        31.133942    31.690997   \n",
       "5270398        32.843101        31.024710        31.144309    31.694812   \n",
       "5270399        32.868398        31.018132        31.153861    31.672279   \n",
       "\n",
       "         AnaAkim(A)  MotorDevri(rpm)  \n",
       "0         50.000000       812.854726  \n",
       "1         49.908763       828.580954  \n",
       "2         49.978215       799.236476  \n",
       "3         50.070479       800.061961  \n",
       "4         50.049783       811.400908  \n",
       "...             ...              ...  \n",
       "5270395   56.735049       930.165746  \n",
       "5270396   56.773775       921.276478  \n",
       "5270397   56.730520       903.821320  \n",
       "5270398   56.695873       902.367501  \n",
       "5270399   56.718093       903.625588  \n",
       "\n",
       "[5270400 rows x 10 columns]"
      ]
     },
     "execution_count": 37,
     "metadata": {},
     "output_type": "execute_result"
    }
   ],
   "source": [
    "df"
   ]
  },
  {
   "cell_type": "code",
   "execution_count": 18,
   "id": "a08415b7",
   "metadata": {},
   "outputs": [],
   "source": [
    "%matplotlib inline"
   ]
  },
  {
   "cell_type": "code",
   "execution_count": 38,
   "id": "charming-belief",
   "metadata": {
    "scrolled": false
   },
   "outputs": [
    {
     "data": {
      "text/plain": [
       "[<matplotlib.lines.Line2D at 0x7ff087d70dc0>]"
      ]
     },
     "execution_count": 38,
     "metadata": {},
     "output_type": "execute_result"
    },
    {
     "data": {
      "image/png": "[encoded data removed]",
      "text/plain": [
       "<Figure size 1296x720 with 1 Axes>"
      ]
     },
     "metadata": {
      "needs_background": "light"
     },
     "output_type": "display_data"
    }
   ],
   "source": [
    "plt.figure(figsize = (18,10))\n",
    "plt.plot(df[\"Yatak3_Sicaklik\"])"
   ]
  },
  {
   "cell_type": "code",
   "execution_count": 39,
   "id": "comparative-buyer",
   "metadata": {
    "scrolled": false
   },
   "outputs": [
    {
     "data": {
      "text/plain": [
       "[<matplotlib.lines.Line2D at 0x7ff07e2e8bb0>]"
      ]
     },
     "execution_count": 39,
     "metadata": {},
     "output_type": "execute_result"
    },
    {
     "data": {
      "image/png": "[encoded data removed]",
      "text/plain": [
       "<Figure size 432x288 with 1 Axes>"
      ]
     },
     "metadata": {
      "needs_background": "light"
     },
     "output_type": "display_data"
    }
   ],
   "source": [
    "plt.plot(df[\"Yatak6_Sicaklik\"])"
   ]
  },
  {
   "cell_type": "code",
   "execution_count": 40,
   "id": "young-syracuse",
   "metadata": {
    "scrolled": true
   },
   "outputs": [
    {
     "data": {
      "text/html": [
       "<div>\n",
       "<style scoped>\n",
       "    .dataframe tbody tr th:only-of-type {\n",
       "        vertical-align: middle;\n",
       "    }\n",
       "\n",
       "    .dataframe tbody tr th {\n",
       "        vertical-align: top;\n",
       "    }\n",
       "\n",
       "    .dataframe thead th {\n",
       "        text-align: right;\n",
       "    }\n",
       "</style>\n",
       "<table border=\"1\" class=\"dataframe\">\n",
       "  <thead>\n",
       "    <tr style=\"text-align: right;\">\n",
       "      <th></th>\n",
       "      <th>Yatak1_Sicaklik</th>\n",
       "      <th>Yatak2_Sicaklik</th>\n",
       "      <th>Yatak3_Sicaklik</th>\n",
       "      <th>Yatak4_Sicaklik</th>\n",
       "      <th>Yatak5_Sicaklik</th>\n",
       "      <th>Yatak6_Sicaklik</th>\n",
       "      <th>Yatak7_Sicaklik</th>\n",
       "      <th>AnaSicaklik</th>\n",
       "      <th>AnaAkim(A)</th>\n",
       "      <th>MotorDevri(rpm)</th>\n",
       "    </tr>\n",
       "  </thead>\n",
       "  <tbody>\n",
       "    <tr>\n",
       "      <th>Yatak1_Sicaklik</th>\n",
       "      <td>1.000000</td>\n",
       "      <td>0.040763</td>\n",
       "      <td>-0.034756</td>\n",
       "      <td>0.000575</td>\n",
       "      <td>0.022002</td>\n",
       "      <td>0.055086</td>\n",
       "      <td>-0.009067</td>\n",
       "      <td>-0.001072</td>\n",
       "      <td>0.033137</td>\n",
       "      <td>0.030646</td>\n",
       "    </tr>\n",
       "    <tr>\n",
       "      <th>Yatak2_Sicaklik</th>\n",
       "      <td>0.040763</td>\n",
       "      <td>1.000000</td>\n",
       "      <td>0.020870</td>\n",
       "      <td>0.056720</td>\n",
       "      <td>0.007759</td>\n",
       "      <td>-0.008285</td>\n",
       "      <td>-0.047282</td>\n",
       "      <td>-0.006831</td>\n",
       "      <td>-0.005994</td>\n",
       "      <td>-0.005262</td>\n",
       "    </tr>\n",
       "    <tr>\n",
       "      <th>Yatak3_Sicaklik</th>\n",
       "      <td>-0.034756</td>\n",
       "      <td>0.020870</td>\n",
       "      <td>1.000000</td>\n",
       "      <td>0.085955</td>\n",
       "      <td>0.034873</td>\n",
       "      <td>-0.034627</td>\n",
       "      <td>0.003864</td>\n",
       "      <td>0.005144</td>\n",
       "      <td>-0.001514</td>\n",
       "      <td>-0.001166</td>\n",
       "    </tr>\n",
       "    <tr>\n",
       "      <th>Yatak4_Sicaklik</th>\n",
       "      <td>0.000575</td>\n",
       "      <td>0.056720</td>\n",
       "      <td>0.085955</td>\n",
       "      <td>1.000000</td>\n",
       "      <td>-0.038100</td>\n",
       "      <td>-0.037677</td>\n",
       "      <td>0.034520</td>\n",
       "      <td>-0.041163</td>\n",
       "      <td>0.096372</td>\n",
       "      <td>0.087955</td>\n",
       "    </tr>\n",
       "    <tr>\n",
       "      <th>Yatak5_Sicaklik</th>\n",
       "      <td>0.022002</td>\n",
       "      <td>0.007759</td>\n",
       "      <td>0.034873</td>\n",
       "      <td>-0.038100</td>\n",
       "      <td>1.000000</td>\n",
       "      <td>-0.015726</td>\n",
       "      <td>-0.059096</td>\n",
       "      <td>0.044090</td>\n",
       "      <td>-0.026180</td>\n",
       "      <td>-0.024118</td>\n",
       "    </tr>\n",
       "    <tr>\n",
       "      <th>Yatak6_Sicaklik</th>\n",
       "      <td>0.055086</td>\n",
       "      <td>-0.008285</td>\n",
       "      <td>-0.034627</td>\n",
       "      <td>-0.037677</td>\n",
       "      <td>-0.015726</td>\n",
       "      <td>1.000000</td>\n",
       "      <td>-0.003437</td>\n",
       "      <td>-0.018951</td>\n",
       "      <td>0.025803</td>\n",
       "      <td>0.023527</td>\n",
       "    </tr>\n",
       "    <tr>\n",
       "      <th>Yatak7_Sicaklik</th>\n",
       "      <td>-0.009067</td>\n",
       "      <td>-0.047282</td>\n",
       "      <td>0.003864</td>\n",
       "      <td>0.034520</td>\n",
       "      <td>-0.059096</td>\n",
       "      <td>-0.003437</td>\n",
       "      <td>1.000000</td>\n",
       "      <td>-0.016130</td>\n",
       "      <td>-0.051872</td>\n",
       "      <td>-0.047506</td>\n",
       "    </tr>\n",
       "    <tr>\n",
       "      <th>AnaSicaklik</th>\n",
       "      <td>-0.001072</td>\n",
       "      <td>-0.006831</td>\n",
       "      <td>0.005144</td>\n",
       "      <td>-0.041163</td>\n",
       "      <td>0.044090</td>\n",
       "      <td>-0.018951</td>\n",
       "      <td>-0.016130</td>\n",
       "      <td>1.000000</td>\n",
       "      <td>0.072965</td>\n",
       "      <td>0.066855</td>\n",
       "    </tr>\n",
       "    <tr>\n",
       "      <th>AnaAkim(A)</th>\n",
       "      <td>0.033137</td>\n",
       "      <td>-0.005994</td>\n",
       "      <td>-0.001514</td>\n",
       "      <td>0.096372</td>\n",
       "      <td>-0.026180</td>\n",
       "      <td>0.025803</td>\n",
       "      <td>-0.051872</td>\n",
       "      <td>0.072965</td>\n",
       "      <td>1.000000</td>\n",
       "      <td>0.915571</td>\n",
       "    </tr>\n",
       "    <tr>\n",
       "      <th>MotorDevri(rpm)</th>\n",
       "      <td>0.030646</td>\n",
       "      <td>-0.005262</td>\n",
       "      <td>-0.001166</td>\n",
       "      <td>0.087955</td>\n",
       "      <td>-0.024118</td>\n",
       "      <td>0.023527</td>\n",
       "      <td>-0.047506</td>\n",
       "      <td>0.066855</td>\n",
       "      <td>0.915571</td>\n",
       "      <td>1.000000</td>\n",
       "    </tr>\n",
       "  </tbody>\n",
       "</table>\n",
       "</div>"
      ],
      "text/plain": [
       "                 Yatak1_Sicaklik  Yatak2_Sicaklik  Yatak3_Sicaklik  \\\n",
       "Yatak1_Sicaklik         1.000000         0.040763        -0.034756   \n",
       "Yatak2_Sicaklik         0.040763         1.000000         0.020870   \n",
       "Yatak3_Sicaklik        -0.034756         0.020870         1.000000   \n",
       "Yatak4_Sicaklik         0.000575         0.056720         0.085955   \n",
       "Yatak5_Sicaklik         0.022002         0.007759         0.034873   \n",
       "Yatak6_Sicaklik         0.055086        -0.008285        -0.034627   \n",
       "Yatak7_Sicaklik        -0.009067        -0.047282         0.003864   \n",
       "AnaSicaklik            -0.001072        -0.006831         0.005144   \n",
       "AnaAkim(A)              0.033137        -0.005994        -0.001514   \n",
       "MotorDevri(rpm)         0.030646        -0.005262        -0.001166   \n",
       "\n",
       "                 Yatak4_Sicaklik  Yatak5_Sicaklik  Yatak6_Sicaklik  \\\n",
       "Yatak1_Sicaklik         0.000575         0.022002         0.055086   \n",
       "Yatak2_Sicaklik         0.056720         0.007759        -0.008285   \n",
       "Yatak3_Sicaklik         0.085955         0.034873        -0.034627   \n",
       "Yatak4_Sicaklik         1.000000        -0.038100        -0.037677   \n",
       "Yatak5_Sicaklik        -0.038100         1.000000        -0.015726   \n",
       "Yatak6_Sicaklik        -0.037677        -0.015726         1.000000   \n",
       "Yatak7_Sicaklik         0.034520        -0.059096        -0.003437   \n",
       "AnaSicaklik            -0.041163         0.044090        -0.018951   \n",
       "AnaAkim(A)              0.096372        -0.026180         0.025803   \n",
       "MotorDevri(rpm)         0.087955        -0.024118         0.023527   \n",
       "\n",
       "                 Yatak7_Sicaklik  AnaSicaklik  AnaAkim(A)  MotorDevri(rpm)  \n",
       "Yatak1_Sicaklik        -0.009067    -0.001072    0.033137         0.030646  \n",
       "Yatak2_Sicaklik        -0.047282    -0.006831   -0.005994        -0.005262  \n",
       "Yatak3_Sicaklik         0.003864     0.005144   -0.001514        -0.001166  \n",
       "Yatak4_Sicaklik         0.034520    -0.041163    0.096372         0.087955  \n",
       "Yatak5_Sicaklik        -0.059096     0.044090   -0.026180        -0.024118  \n",
       "Yatak6_Sicaklik        -0.003437    -0.018951    0.025803         0.023527  \n",
       "Yatak7_Sicaklik         1.000000    -0.016130   -0.051872        -0.047506  \n",
       "AnaSicaklik            -0.016130     1.000000    0.072965         0.066855  \n",
       "AnaAkim(A)             -0.051872     0.072965    1.000000         0.915571  \n",
       "MotorDevri(rpm)        -0.047506     0.066855    0.915571         1.000000  "
      ]
     },
     "execution_count": 40,
     "metadata": {},
     "output_type": "execute_result"
    }
   ],
   "source": [
    "df.corr()"
   ]
  },
  {
   "cell_type": "code",
   "execution_count": 41,
   "id": "narrative-directory",
   "metadata": {},
   "outputs": [],
   "source": [
    "df.to_csv(\"PressMachine_Measurements_v1_2aylik.csv\",index=False)"
   ]
  },
  {
   "cell_type": "code",
   "execution_count": null,
   "id": "b1318153",
   "metadata": {},
   "outputs": [],
   "source": []
  }
 ],
 "metadata": {
  "kernelspec": {
   "display_name": "Python 3",
   "language": "python",
   "name": "python3"
  },
  "language_info": {
   "codemirror_mode": {
    "name": "ipython",
    "version": 3
   },
   "file_extension": ".py",
   "mimetype": "text/x-python",
   "name": "python",
   "nbconvert_exporter": "python",
   "pygments_lexer": "ipython3",
   "version": "3.8.8"
  }
 },
 "nbformat": 4,
 "nbformat_minor": 5
}
